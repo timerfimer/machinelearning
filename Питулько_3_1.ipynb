{
  "nbformat": 4,
  "nbformat_minor": 0,
  "metadata": {
    "colab": {
      "provenance": []
    },
    "kernelspec": {
      "name": "python3",
      "display_name": "Python 3"
    },
    "language_info": {
      "name": "python"
    }
  },
  "cells": [
    {
      "cell_type": "markdown",
      "source": [],
      "metadata": {
        "id": "_rgZ4cDkB7Ri"
      }
    },
    {
      "cell_type": "code",
      "execution_count": 25,
      "metadata": {
        "id": "WPWMVmXaBt1Y"
      },
      "outputs": [],
      "source": [
        "\n",
        "#1. Прочитайте CSV файл (використовуйте метод read_csv):\n",
        "\n",
        "\n",
        "import pandas as pd\n",
        "import numpy as np\n",
        "import matplotlib.pyplot as plt\n",
        "\n",
        "\n",
        "\n",
        "file_path = '/content/Global YouTube Statistics.csv'\n",
        "\n",
        "df = pd.read_csv(file_path, encoding='windows-1251')\n",
        "\n",
        "\n"
      ]
    },
    {
      "cell_type": "markdown",
      "source": [],
      "metadata": {
        "id": "yRpl3qiMCCZe"
      }
    },
    {
      "cell_type": "code",
      "source": [
        "#2. Виведіть перші п'ять рядків (використовується метод head):\n",
        "print(df.head())"
      ],
      "metadata": {
        "colab": {
          "base_uri": "https://localhost:8080/"
        },
        "id": "Mq7PQPm1UzLb",
        "outputId": "8a295466-1e75-42e4-cc8d-31c84e5a9d45"
      },
      "execution_count": 2,
      "outputs": [
        {
          "output_type": "stream",
          "name": "stdout",
          "text": [
            "   rank                    Youtuber  subscribers   video views  \\\n",
            "0     1                    T-Series    245000000  2.280000e+11   \n",
            "1     2              YouTube Movies    170000000  0.000000e+00   \n",
            "2     3                     MrBeast    166000000  2.836884e+10   \n",
            "3     4  Cocomelon - Nursery Rhymes    162000000  1.640000e+11   \n",
            "4     5                   SET India    159000000  1.480000e+11   \n",
            "\n",
            "           category                       Title  uploads        Country  \\\n",
            "0             Music                    T-Series    20082          India   \n",
            "1  Film & Animation               youtubemovies        1  United States   \n",
            "2     Entertainment                     MrBeast      741  United States   \n",
            "3         Education  Cocomelon - Nursery Rhymes      966  United States   \n",
            "4             Shows                   SET India   116536          India   \n",
            "\n",
            "  Abbreviation   channel_type  ...  subscribers_for_last_30_days  \\\n",
            "0           IN          Music  ...                     2000000.0   \n",
            "1           US          Games  ...                           NaN   \n",
            "2           US  Entertainment  ...                     8000000.0   \n",
            "3           US      Education  ...                     1000000.0   \n",
            "4           IN  Entertainment  ...                     1000000.0   \n",
            "\n",
            "   created_year  created_month  created_date  \\\n",
            "0        2006.0            Mar          13.0   \n",
            "1        2006.0            Mar           5.0   \n",
            "2        2012.0            Feb          20.0   \n",
            "3        2006.0            Sep           1.0   \n",
            "4        2006.0            Sep          20.0   \n",
            "\n",
            "   Gross tertiary education enrollment (%)    Population  Unemployment rate  \\\n",
            "0                                     28.1  1.366418e+09               5.36   \n",
            "1                                     88.2  3.282395e+08              14.70   \n",
            "2                                     88.2  3.282395e+08              14.70   \n",
            "3                                     88.2  3.282395e+08              14.70   \n",
            "4                                     28.1  1.366418e+09               5.36   \n",
            "\n",
            "   Urban_population   Latitude  Longitude  \n",
            "0       471031528.0  20.593684  78.962880  \n",
            "1       270663028.0  37.090240 -95.712891  \n",
            "2       270663028.0  37.090240 -95.712891  \n",
            "3       270663028.0  37.090240 -95.712891  \n",
            "4       471031528.0  20.593684  78.962880  \n",
            "\n",
            "[5 rows x 28 columns]\n"
          ]
        }
      ]
    },
    {
      "cell_type": "code",
      "source": [
        "#3. Виведіть розміри датасету (використовуйте метод shape):\n",
        "print(\"Розміри датасету:\", df.shape)"
      ],
      "metadata": {
        "colab": {
          "base_uri": "https://localhost:8080/"
        },
        "id": "PkopbaoIVMi-",
        "outputId": "fe9866a2-3987-4dcf-ad8b-275453e307c0"
      },
      "execution_count": 3,
      "outputs": [
        {
          "output_type": "stream",
          "name": "stdout",
          "text": [
            "Розміри датасету: (995, 28)\n"
          ]
        }
      ]
    },
    {
      "cell_type": "code",
      "source": [
        "#Перевірте, чи у всіх рядків вистачає даних: виведіть кількість пропусків  у кожному зі стовпців (використовуйте методи isna та sum)\n",
        "missing_values = df.isna().sum()\n",
        "print(\"Кількість пропусків у кожному стовпці:\")\n",
        "print(missing_values)\n",
        "\n",
        "df = df.replace('-', np.nan)\n",
        "\n",
        "missing_values_after = df.isna().sum()\n",
        "print(\"Кількість пропусків у кожному стовпці після обробки:\")\n",
        "print(missing_values_after)"
      ],
      "metadata": {
        "colab": {
          "base_uri": "https://localhost:8080/"
        },
        "id": "mh3wNXCXCEg-",
        "outputId": "660691b4-289f-47a0-f530-9ce3fbdc9c7e"
      },
      "execution_count": 4,
      "outputs": [
        {
          "output_type": "stream",
          "name": "stdout",
          "text": [
            "Кількість пропусків у кожному стовпці:\n",
            "rank                                         0\n",
            "Youtuber                                     0\n",
            "subscribers                                  0\n",
            "video views                                  0\n",
            "category                                    46\n",
            "Title                                        0\n",
            "uploads                                      0\n",
            "Country                                    122\n",
            "Abbreviation                               122\n",
            "channel_type                                30\n",
            "video_views_rank                             1\n",
            "country_rank                               116\n",
            "channel_type_rank                           33\n",
            "video_views_for_the_last_30_days            56\n",
            "lowest_monthly_earnings                      0\n",
            "highest_monthly_earnings                     0\n",
            "lowest_yearly_earnings                       0\n",
            "highest_yearly_earnings                      0\n",
            "subscribers_for_last_30_days               337\n",
            "created_year                                 5\n",
            "created_month                                5\n",
            "created_date                                 5\n",
            "Gross tertiary education enrollment (%)    123\n",
            "Population                                 123\n",
            "Unemployment rate                          123\n",
            "Urban_population                           123\n",
            "Latitude                                   123\n",
            "Longitude                                  123\n",
            "dtype: int64\n",
            "Кількість пропусків у кожному стовпці після обробки:\n",
            "rank                                         0\n",
            "Youtuber                                     0\n",
            "subscribers                                  0\n",
            "video views                                  0\n",
            "category                                    46\n",
            "Title                                        0\n",
            "uploads                                      0\n",
            "Country                                    122\n",
            "Abbreviation                               122\n",
            "channel_type                                30\n",
            "video_views_rank                             1\n",
            "country_rank                               116\n",
            "channel_type_rank                           33\n",
            "video_views_for_the_last_30_days            56\n",
            "lowest_monthly_earnings                      0\n",
            "highest_monthly_earnings                     0\n",
            "lowest_yearly_earnings                       0\n",
            "highest_yearly_earnings                      0\n",
            "subscribers_for_last_30_days               337\n",
            "created_year                                 5\n",
            "created_month                                5\n",
            "created_date                                 5\n",
            "Gross tertiary education enrollment (%)    123\n",
            "Population                                 123\n",
            "Unemployment rate                          123\n",
            "Urban_population                           123\n",
            "Latitude                                   123\n",
            "Longitude                                  123\n",
            "dtype: int64\n"
          ]
        }
      ]
    },
    {
      "cell_type": "code",
      "source": [
        "#Замініть комірки з пропущеними значенями на середні за стовпцем. І тип даних на floa\n",
        "numeric_columns = df.select_dtypes(include=[np.number]).columns\n",
        "\n",
        "df[numeric_columns] = df[numeric_columns].apply(lambda col: col.fillna(col.mean()), axis=0)\n",
        "\n",
        "df[numeric_columns] = df[numeric_columns].astype(float)\n",
        "print(df.head())\n"
      ],
      "metadata": {
        "id": "qtO15bUvWPmZ",
        "colab": {
          "base_uri": "https://localhost:8080/"
        },
        "outputId": "47426563-5177-4843-a739-c955e5588f8c"
      },
      "execution_count": 26,
      "outputs": [
        {
          "output_type": "stream",
          "name": "stdout",
          "text": [
            "   rank                    Youtuber  subscribers   video views  \\\n",
            "0   1.0                    T-Series  245000000.0  2.280000e+11   \n",
            "1   2.0              YouTube Movies  170000000.0  0.000000e+00   \n",
            "2   3.0                     MrBeast  166000000.0  2.836884e+10   \n",
            "3   4.0  Cocomelon - Nursery Rhymes  162000000.0  1.640000e+11   \n",
            "4   5.0                   SET India  159000000.0  1.480000e+11   \n",
            "\n",
            "           category                       Title   uploads        Country  \\\n",
            "0             Music                    T-Series   20082.0          India   \n",
            "1  Film & Animation               youtubemovies       1.0  United States   \n",
            "2     Entertainment                     MrBeast     741.0  United States   \n",
            "3         Education  Cocomelon - Nursery Rhymes     966.0  United States   \n",
            "4             Shows                   SET India  116536.0          India   \n",
            "\n",
            "  Abbreviation   channel_type  ...  subscribers_for_last_30_days  \\\n",
            "0           IN          Music  ...                  2.000000e+06   \n",
            "1           US          Games  ...                  3.490791e+05   \n",
            "2           US  Entertainment  ...                  8.000000e+06   \n",
            "3           US      Education  ...                  1.000000e+06   \n",
            "4           IN  Entertainment  ...                  1.000000e+06   \n",
            "\n",
            "   created_year  created_month  created_date  \\\n",
            "0        2006.0            Mar          13.0   \n",
            "1        2006.0            Mar           5.0   \n",
            "2        2012.0            Feb          20.0   \n",
            "3        2006.0            Sep           1.0   \n",
            "4        2006.0            Sep          20.0   \n",
            "\n",
            "   Gross tertiary education enrollment (%)    Population  Unemployment rate  \\\n",
            "0                                     28.1  1.366418e+09               5.36   \n",
            "1                                     88.2  3.282395e+08              14.70   \n",
            "2                                     88.2  3.282395e+08              14.70   \n",
            "3                                     88.2  3.282395e+08              14.70   \n",
            "4                                     28.1  1.366418e+09               5.36   \n",
            "\n",
            "   Urban_population   Latitude  Longitude  \n",
            "0       471031528.0  20.593684  78.962880  \n",
            "1       270663028.0  37.090240 -95.712891  \n",
            "2       270663028.0  37.090240 -95.712891  \n",
            "3       270663028.0  37.090240 -95.712891  \n",
            "4       471031528.0  20.593684  78.962880  \n",
            "\n",
            "[5 rows x 28 columns]\n"
          ]
        }
      ]
    },
    {
      "cell_type": "code",
      "source": [
        "#Ще раз перевірте кількість пропусків.\n",
        "missing_values_after = df.isna().sum()\n",
        "print(\"Кількість пропусків у кожному стовпці:\")\n",
        "print(missing_values_after)"
      ],
      "metadata": {
        "colab": {
          "base_uri": "https://localhost:8080/"
        },
        "id": "nrIJnPcwvdGI",
        "outputId": "e2a3ca84-c4e6-4e15-9991-b1aed19fea64"
      },
      "execution_count": 11,
      "outputs": [
        {
          "output_type": "stream",
          "name": "stdout",
          "text": [
            "Кількість пропусків у кожному стовпці:\n",
            "rank                                         0\n",
            "Youtuber                                     0\n",
            "subscribers                                  0\n",
            "video views                                  0\n",
            "category                                    46\n",
            "Title                                        0\n",
            "uploads                                      0\n",
            "Country                                    122\n",
            "Abbreviation                               122\n",
            "channel_type                                30\n",
            "video_views_rank                             0\n",
            "country_rank                                 0\n",
            "channel_type_rank                            0\n",
            "video_views_for_the_last_30_days             0\n",
            "lowest_monthly_earnings                      0\n",
            "highest_monthly_earnings                     0\n",
            "lowest_yearly_earnings                       0\n",
            "highest_yearly_earnings                      0\n",
            "subscribers_for_last_30_days                 0\n",
            "created_year                                 0\n",
            "created_month                                5\n",
            "created_date                                 0\n",
            "Gross tertiary education enrollment (%)      0\n",
            "Population                                   0\n",
            "Unemployment rate                            0\n",
            "Urban_population                             0\n",
            "Latitude                                     0\n",
            "Longitude                                    0\n",
            "dtype: int64\n"
          ]
        }
      ]
    },
    {
      "cell_type": "code",
      "source": [
        "# Перевірте, скільки унікальних країн представлено у колонці \"Country\"\n",
        "unique_countries = df['Country'].nunique()\n",
        "print(\"Кількість унікальних країн:\", unique_countries)"
      ],
      "metadata": {
        "id": "XVRrwdY2v9Nc",
        "colab": {
          "base_uri": "https://localhost:8080/"
        },
        "outputId": "2cfc4deb-b0a8-4543-85e9-c84f961b0f15"
      },
      "execution_count": 15,
      "outputs": [
        {
          "output_type": "stream",
          "name": "stdout",
          "text": [
            "Кількість унікальних країн: 49\n"
          ]
        }
      ]
    },
    {
      "cell_type": "code",
      "source": [
        "#Побудуйте діаграму розподілу переглядів (використовуйте kind='hist'):\n",
        "plt.figure(figsize=(10, 6))\n",
        "plt.hist(df['video views'], bins=20, color='skyblue', edgecolor='black')\n",
        "plt.title('Розподіл переглядів')\n",
        "plt.xlabel('переглядів')\n",
        "plt.ylabel('відео')\n",
        "plt.grid(True)\n",
        "plt.show()"
      ],
      "metadata": {
        "colab": {
          "base_uri": "https://localhost:8080/",
          "height": 564
        },
        "id": "XvbkwCjS4OW2",
        "outputId": "0a38ecdc-a8b9-4c58-dd1d-ddfb587ab4ca"
      },
      "execution_count": 21,
      "outputs": [
        {
          "output_type": "display_data",
          "data": {
            "text/plain": [
              "<Figure size 1000x600 with 1 Axes>"
            ],
            "image/png": "[encoded data removed]"
          },
          "metadata": {}
        }
      ]
    },
    {
      "cell_type": "code",
      "source": [
        "# Максимальна кількість переглядів\n",
        "max_views = df['video views'].max()\n",
        "print(\"Максимальна кількість переглядів:\", max_views)\n",
        "\n",
        "# Мінімальна кількість переглядів\n",
        "min_views = df['video views'].min()\n",
        "print(\"Мінімальна кількість переглядів:\", min_views)\n",
        "\n",
        "# Середня кількість переглядів\n",
        "mean_views = df['video views'].mean()\n",
        "print(\"Середня кількість переглядів:\", mean_views)"
      ],
      "metadata": {
        "colab": {
          "base_uri": "https://localhost:8080/"
        },
        "id": "UclvwklM4pny",
        "outputId": "71028ebb-8bed-4b45-e6fa-fbfc91576413"
      },
      "execution_count": 22,
      "outputs": [
        {
          "output_type": "stream",
          "name": "stdout",
          "text": [
            "Максимальна кількість переглядів: 228000000000.0\n",
            "Мінімальна кількість переглядів: 0.0\n",
            "Середня кількість переглядів: 11039537052.03819\n"
          ]
        }
      ]
    },
    {
      "cell_type": "code",
      "source": [
        "# Знаходження країни з найбільшою кількістю відео\n",
        "country_with_max_videos = df['uploads'].idxmax()\n",
        "\n",
        "print(\"Країна з найбільшою кількістю відео:\", df.loc[country_with_max_videos, 'Country'])"
      ],
      "metadata": {
        "colab": {
          "base_uri": "https://localhost:8080/"
        },
        "id": "TffWzYZI5Du0",
        "outputId": "a61365d7-983f-4d6a-df5e-be29e12f9682"
      },
      "execution_count": 23,
      "outputs": [
        {
          "output_type": "stream",
          "name": "stdout",
          "text": [
            "Країна з найбільшою кількістю відео: India\n"
          ]
        }
      ]
    },
    {
      "cell_type": "code",
      "source": [
        "#найдіть відео (виведіть його назву) з найбільшою та найменшою кількістю завантажень uploads.\n",
        "max_uploads_index = df['uploads'].idxmax()\n",
        "min_uploads_index = df['uploads'].idxmin()\n",
        "\n",
        "video_with_max_uploads = df.loc[max_uploads_index, 'uploads']\n",
        "video_with_min_uploads = df.loc[min_uploads_index, 'uploads']\n",
        "\n",
        "print(\"Відео з найбільшою кількістю завантажень:\", video_with_max_uploads)\n",
        "print(\"Відео з найменшою кількістю завантажень:\", video_with_min_uploads)"
      ],
      "metadata": {
        "colab": {
          "base_uri": "https://localhost:8080/"
        },
        "id": "A6W0VD5C6A2h",
        "outputId": "e646b36e-7c8b-4d71-ae6b-c25bf6661cad"
      },
      "execution_count": 24,
      "outputs": [
        {
          "output_type": "stream",
          "name": "stdout",
          "text": [
            "Відео з найбільшою кількістю завантажень: 301308\n",
            "Відео з найменшою кількістю завантажень: 0\n"
          ]
        }
      ]
    }
  ]
}