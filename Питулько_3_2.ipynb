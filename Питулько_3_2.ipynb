{
  "nbformat": 4,
  "nbformat_minor": 0,
  "metadata": {
    "colab": {
      "provenance": []
    },
    "kernelspec": {
      "name": "python3",
      "display_name": "Python 3"
    },
    "language_info": {
      "name": "python"
    }
  },
  "cells": [
    {
      "cell_type": "code",
      "execution_count": 1,
      "metadata": {
        "id": "sUOeGjsc6388"
      },
      "outputs": [],
      "source": [
        "#Прочитайте csv файл (метод read_csv)\n",
        "import pandas as pd\n",
        "\n",
        "file_path = '/content/bestsellers with categories.csv'\n",
        "df = pd.read_csv(file_path)"
      ]
    },
    {
      "cell_type": "code",
      "source": [
        "print(df.head(10))\n",
        "#Виведіть перші 10 рядків (метод head)"
      ],
      "metadata": {
        "colab": {
          "base_uri": "https://localhost:8080/"
        },
        "id": "pDMDaqzP_byo",
        "outputId": "0dabfd90-36aa-4c19-eb1d-7b8347adbc55"
      },
      "execution_count": 2,
      "outputs": [
        {
          "output_type": "stream",
          "name": "stdout",
          "text": [
            "                                                Name  \\\n",
            "0                      10-Day Green Smoothie Cleanse   \n",
            "1                                  11/22/63: A Novel   \n",
            "2            12 Rules for Life: An Antidote to Chaos   \n",
            "3                             1984 (Signet Classics)   \n",
            "4  5,000 Awesome Facts (About Everything!) (Natio...   \n",
            "5      A Dance with Dragons (A Song of Ice and Fire)   \n",
            "6  A Game of Thrones / A Clash of Kings / A Storm...   \n",
            "7                     A Gentleman in Moscow: A Novel   \n",
            "8      A Higher Loyalty: Truth, Lies, and Leadership   \n",
            "9                          A Man Called Ove: A Novel   \n",
            "\n",
            "                     Author  User Rating  Reviews  Price  Year        Genre  \n",
            "0                  JJ Smith          4.7    17350      8  2016  Non Fiction  \n",
            "1              Stephen King          4.6     2052     22  2011      Fiction  \n",
            "2        Jordan B. Peterson          4.7    18979     15  2018  Non Fiction  \n",
            "3             George Orwell          4.7    21424      6  2017      Fiction  \n",
            "4  National Geographic Kids          4.8     7665     12  2019  Non Fiction  \n",
            "5       George R. R. Martin          4.4    12643     11  2011      Fiction  \n",
            "6       George R. R. Martin          4.7    19735     30  2014      Fiction  \n",
            "7               Amor Towles          4.7    19699     15  2017      Fiction  \n",
            "8               James Comey          4.7     5983      3  2018  Non Fiction  \n",
            "9           Fredrik Backman          4.6    23848      8  2016      Fiction  \n"
          ]
        }
      ]
    },
    {
      "cell_type": "code",
      "source": [
        "print(\"Розміри датасету:\", df.shape)\n",
        "#Виведіть розміри датасету (метод shape)"
      ],
      "metadata": {
        "colab": {
          "base_uri": "https://localhost:8080/"
        },
        "id": "tnDiOBXB_eTo",
        "outputId": "d4866149-9a67-47b7-ebf8-0ee98cb27d23"
      },
      "execution_count": 3,
      "outputs": [
        {
          "output_type": "stream",
          "name": "stdout",
          "text": [
            "Розміри датасету: (550, 7)\n"
          ]
        }
      ]
    },
    {
      "cell_type": "code",
      "source": [
        "books_count = df.shape[0]\n",
        "print(\"Кількість книг у датасеті:\", books_count)\n"
      ],
      "metadata": {
        "colab": {
          "base_uri": "https://localhost:8080/"
        },
        "id": "60h5LBq-_gDe",
        "outputId": "cdb3481a-9914-4157-f798-52df5ff04ee4"
      },
      "execution_count": 4,
      "outputs": [
        {
          "output_type": "stream",
          "name": "stdout",
          "text": [
            "Кількість книг у датасеті: 550\n"
          ]
        }
      ]
    },
    {
      "cell_type": "code",
      "source": [
        "df.columns = ['name', 'author', 'user_rating', 'reviews', 'price', 'year', 'genre']\n",
        "#Змініть назви всіх колонок: назва з маленької букви, без пробілів через підкреслення.\n"
      ],
      "metadata": {
        "id": "xTCkhzOL_hw2"
      },
      "execution_count": 5,
      "outputs": []
    },
    {
      "cell_type": "code",
      "source": [
        "#Вивести кількість пропусків у кожному стовпчику.\n",
        "#Питання : Чи є в якихось змінних пропуски? (Так / ні)\n",
        "missing_values = df.isna().sum()\n",
        "print(\"Кількість пропусків у кожному стовпці:\")\n",
        "print(missing_values)\n",
        "\n",
        "has_missing_values = any(missing_values > 0)\n",
        "print(\"Чи є в якихось змінних пропуски?\", \"Так\" if has_missing_values else \"Ні\")"
      ],
      "metadata": {
        "colab": {
          "base_uri": "https://localhost:8080/"
        },
        "id": "9_-Mh39kAFj3",
        "outputId": "d728193a-abca-4427-e310-e7f985e01c02"
      },
      "execution_count": 8,
      "outputs": [
        {
          "output_type": "stream",
          "name": "stdout",
          "text": [
            "Кількість пропусків у кожному стовпці:\n",
            "name           0\n",
            "author         0\n",
            "user_rating    0\n",
            "reviews        0\n",
            "price          0\n",
            "year           0\n",
            "genre          0\n",
            "dtype: int64\n",
            "Чи є в якихось змінних пропуски? Ні\n"
          ]
        }
      ]
    },
    {
      "cell_type": "code",
      "source": [
        "#За допомогою методу unique  перевірте. Які є унікальні жанри в стовпці genre  Питання : Які є унікальні жанри?\n",
        "unique_genres = df['genre'].unique()\n",
        "print(\"Унікальні жанри:\", unique_genres)"
      ],
      "metadata": {
        "colab": {
          "base_uri": "https://localhost:8080/"
        },
        "id": "He3T8jqYALLJ",
        "outputId": "b59e83bd-e9e1-4dba-da21-df6fbdd4114a"
      },
      "execution_count": 9,
      "outputs": [
        {
          "output_type": "stream",
          "name": "stdout",
          "text": [
            "Унікальні жанри: ['Non Fiction' 'Fiction']\n"
          ]
        }
      ]
    },
    {
      "cell_type": "code",
      "source": [
        "#Визначте максимальну, мінімальну, медіанну ціну за допомогою методів  max, min, mean, median\n",
        "#Питання: Максимальна ціна?\n",
        "#Питання: Мінімальна ціна?\n",
        "#Питання: Середня ціна?\n",
        "#Питання: Медіанна ціна?\n",
        "max_price = df['price'].max()\n",
        "min_price = df['price'].min()\n",
        "mean_price = df['price'].mean()\n",
        "median_price = df['price'].median()\n",
        "\n",
        "print(\"Макс ціна:\", max_price)\n",
        "print(\"Мін ціна:\", min_price)\n",
        "print(\"Сер ціна:\", mean_price)\n",
        "print(\"Мед ціна:\", median_price)\n"
      ],
      "metadata": {
        "colab": {
          "base_uri": "https://localhost:8080/"
        },
        "id": "zc9Fz5dMAQEA",
        "outputId": "5cfc4288-3490-4985-8a36-7e74ef4d473f"
      },
      "execution_count": 10,
      "outputs": [
        {
          "output_type": "stream",
          "name": "stdout",
          "text": [
            "Макс ціна: 105\n",
            "Мін ціна: 0\n",
            "Сер ціна: 13.1\n",
            "Мед ціна: 11.0\n"
          ]
        }
      ]
    },
    {
      "cell_type": "code",
      "source": [
        "# Який рейтинг у датасеті найвищий?\n",
        "max_rating = df['user_rating'].max()\n",
        "print(\"найбільший рейтинг у датасеті:\", max_rating)\n",
        "\n",
        "# Скільки книг мають такий рейтинг?\n",
        "books_with_max_rating_count = df[df['user_rating'] == max_rating].shape[0]\n",
        "print(\"книги із найвищим рейтингом:\", books_with_max_rating_count)\n",
        "\n",
        "# Яка книга має найбільше відгуків?\n",
        "max_reviews_book = df.loc[df['reviews'].idxmax(), 'name']\n",
        "print(\"Книга з найбільшею кількістю відгуків:\", max_reviews_book)\n",
        "\n",
        "# З тих книг, що потрапили до Топ-50 у 2010 році, яка книга найдорожча?\n",
        "max_price_2010 = df[df['year'] == 2010]['price'].max()\n",
        "most_expensive_book_2010 = df[(df['year'] == 2010) & (df['price'] == max_price_2010)]['name'].values[0]\n",
        "print(\"книги у топ-50 у 2010 році:\", most_expensive_book_2010)\n",
        "\n",
        "# Скільки книг жанру Fiction потрапили до Топ-50 у 2012 році\n",
        "fiction_books_2012_count = df[(df['genre'] == 'Fiction') & (df['year'] == 2012)].shape[0]\n",
        "print(\"книги жанру Fiction у топ-50 у 2012 році:\", fiction_books_2012_count)\n",
        "\n",
        "# Скільки книг з рейтингом 4.9 потрапило до рейтингу у 2010 та 2011 роках\n",
        "books_with_4_9_rating_count = df[(df['user_rating'] == 4.9) & (df['year'].isin([2010, 2011]))].shape[0]\n",
        "print(\"книги з рейтингом 4.9 у 2010 та 2011 роках:\", books_with_4_9_rating_count)\n"
      ],
      "metadata": {
        "colab": {
          "base_uri": "https://localhost:8080/"
        },
        "id": "Ya33z_vUAZnj",
        "outputId": "060e0ee1-26b4-46f3-a805-089f51763dc1"
      },
      "execution_count": 16,
      "outputs": [
        {
          "output_type": "stream",
          "name": "stdout",
          "text": [
            "найбільший рейтинг у датасеті: 4.9\n",
            "книги із найвищим рейтингом: 52\n",
            "Книга з найбільшею кількістю відгуків: Where the Crawdads Sing\n",
            "книги у топ-50 у 2010 році: Publication Manual of the American Psychological Association, 6th Edition\n",
            "книги жанру Fiction у топ-50 у 2012 році: 21\n",
            "книги з рейтингом 4.9 у 2010 та 2011 роках: 1\n"
          ]
        }
      ]
    },
    {
      "cell_type": "code",
      "source": [
        "#Вивести максимальну і  мінімальну ціну для жанру Fiction I NonFiction (за допомогою методів  groupby та agg, для підрахунку мінімальних та максимальних значень використовуйте max та min). Використовуйте тількі потрібні вам стовпці.\n",
        "grouped_prices = df.groupby('genre')['price'].agg(['max', 'min'])\n",
        "print(\"Максимальна та мінімальна ціна для жанру Fiction та NonFiction:\")\n",
        "print(grouped_prices)\n"
      ],
      "metadata": {
        "colab": {
          "base_uri": "https://localhost:8080/"
        },
        "id": "_GZnOwc3A9Aj",
        "outputId": "4607f348-a51b-4ca9-e056-f2e25d2ef3c8"
      },
      "execution_count": 17,
      "outputs": [
        {
          "output_type": "stream",
          "name": "stdout",
          "text": [
            "Максимальна та мінімальна ціна для жанру Fiction та NonFiction:\n",
            "             max  min\n",
            "genre                \n",
            "Fiction       82    0\n",
            "Non Fiction  105    0\n"
          ]
        }
      ]
    },
    {
      "cell_type": "markdown",
      "source": [
        "Висновок: в даній роботі було виконано аналіз даних з використанням зчитування csv файлу за допомогою бібліотеки pandas, використовувались різні методи для знаходження максимальних, мінімальних цін та медіан. Був зроблений пошук та сортування даних."
      ],
      "metadata": {
        "id": "JjkfIQFADveh"
      }
    }
  ]
}