{
  "nbformat": 4,
  "nbformat_minor": 0,
  "metadata": {
    "colab": {
      "provenance": []
    },
    "kernelspec": {
      "name": "python3",
      "display_name": "Python 3"
    },
    "language_info": {
      "name": "python"
    }
  },
  "cells": [
    {
      "cell_type": "code",
      "execution_count": null,
      "metadata": {
        "id": "2BI0oThwe7qm"
      },
      "outputs": [],
      "source": []
    },
    {
      "cell_type": "code",
      "execution_count": 1,
      "metadata": {
        "id": "9Kk51SGbZhXJ",
        "colab": {
          "base_uri": "https://localhost:8080/"
        },
        "outputId": "6ae38bdb-5afd-48e2-fa62-27c00cab253a"
      },
      "outputs": [
        {
          "output_type": "stream",
          "name": "stdout",
          "text": [
            "Collecting scikit-surprise\n",
            "  Downloading scikit-surprise-1.1.3.tar.gz (771 kB)\n",
            "\u001b[2K     \u001b[90m━━━━━━━━━━━━━━━━━━━━━━━━━━━━━━━━━━━━━━━━\u001b[0m \u001b[32m772.0/772.0 kB\u001b[0m \u001b[31m5.3 MB/s\u001b[0m eta \u001b[36m0:00:00\u001b[0m\n",
            "\u001b[?25h  Preparing metadata (setup.py) ... \u001b[?25l\u001b[?25hdone\n",
            "Requirement already satisfied: joblib>=1.0.0 in /usr/local/lib/python3.10/dist-packages (from scikit-surprise) (1.3.2)\n",
            "Requirement already satisfied: numpy>=1.17.3 in /usr/local/lib/python3.10/dist-packages (from scikit-surprise) (1.23.5)\n",
            "Requirement already satisfied: scipy>=1.3.2 in /usr/local/lib/python3.10/dist-packages (from scikit-surprise) (1.11.3)\n",
            "Building wheels for collected packages: scikit-surprise\n",
            "  Building wheel for scikit-surprise (setup.py) ... \u001b[?25l\u001b[?25hdone\n",
            "  Created wheel for scikit-surprise: filename=scikit_surprise-1.1.3-cp310-cp310-linux_x86_64.whl size=3163343 sha256=678fcf7ce24c554d683965f4aa667a052358e2cd01fb4626604f5b2e06b5f16d\n",
            "  Stored in directory: /root/.cache/pip/wheels/a5/ca/a8/4e28def53797fdc4363ca4af740db15a9c2f1595ebc51fb445\n",
            "Successfully built scikit-surprise\n",
            "Installing collected packages: scikit-surprise\n",
            "Successfully installed scikit-surprise-1.1.3\n"
          ]
        }
      ],
      "source": [
        "!pip install scikit-surprise\n"
      ]
    },
    {
      "cell_type": "code",
      "source": [
        "from surprise import Dataset, Reader, SVD, SVDpp, NMF, KNNWithZScore, BaselineOnly\n",
        "from surprise.model_selection import cross_validate\n",
        "import matplotlib.pyplot as plt\n",
        "\n",
        "data = Dataset.load_builtin('ml-100k')\n",
        "\n"
      ],
      "metadata": {
        "colab": {
          "base_uri": "https://localhost:8080/"
        },
        "id": "hq95M7yyfhFw",
        "outputId": "fa8b68d7-49df-4509-b1ee-bcde0141799e"
      },
      "execution_count": 3,
      "outputs": [
        {
          "output_type": "stream",
          "name": "stdout",
          "text": [
            "Dataset ml-100k could not be found. Do you want to download it? [Y/n] y\n",
            "Trying to download dataset from https://files.grouplens.org/datasets/movielens/ml-100k.zip...\n",
            "Done! Dataset ml-100k has been saved to /root/.surprise_data/ml-100k\n"
          ]
        }
      ]
    },
    {
      "cell_type": "code",
      "source": [
        "#Використайте алгоритми SVD, SVDpp, NMF  + ще два на власний вибір.\n",
        "svd = SVD()\n",
        "svdpp = SVDpp()\n",
        "nmf = NMF()\n",
        "knn_with_zscore = KNNWithZScore()\n",
        "baseline_only = BaselineOnly()"
      ],
      "metadata": {
        "id": "F41hPUJuftu9"
      },
      "execution_count": 4,
      "outputs": []
    },
    {
      "cell_type": "code",
      "source": [
        "#Найкращі параметри для всіх алгоритмів підберіть за допомогою крос-валідації.\n",
        "cv_svd = cross_validate(svd, data, measures=['RMSE'], cv=5, verbose=True)\n",
        "cv_svdpp = cross_validate(svdpp, data, measures=['RMSE'], cv=5, verbose=True)\n",
        "cv_nmf = cross_validate(nmf, data, measures=['RMSE'], cv=5, verbose=True)\n",
        "cv_knn_with_zscore = cross_validate(knn_with_zscore, data, measures=['RMSE'], cv=5, verbose=True)\n",
        "cv_baseline_only = cross_validate(baseline_only, data, measures=['RMSE'], cv=5, verbose=True)"
      ],
      "metadata": {
        "colab": {
          "base_uri": "https://localhost:8080/"
        },
        "id": "wtXOiE6zfy3q",
        "outputId": "621e2ec8-6ebd-4e78-a4bc-28d5e25bf85b"
      },
      "execution_count": 5,
      "outputs": [
        {
          "output_type": "stream",
          "name": "stdout",
          "text": [
            "Evaluating RMSE of algorithm SVD on 5 split(s).\n",
            "\n",
            "                  Fold 1  Fold 2  Fold 3  Fold 4  Fold 5  Mean    Std     \n",
            "RMSE (testset)    0.9426  0.9420  0.9330  0.9307  0.9330  0.9363  0.0050  \n",
            "Fit time          2.16    1.95    1.30    1.86    1.48    1.75    0.32    \n",
            "Test time         0.22    0.20    0.12    0.22    0.19    0.19    0.04    \n",
            "Evaluating RMSE of algorithm SVDpp on 5 split(s).\n",
            "\n",
            "                  Fold 1  Fold 2  Fold 3  Fold 4  Fold 5  Mean    Std     \n",
            "RMSE (testset)    0.9236  0.9162  0.9187  0.9238  0.9181  0.9201  0.0031  \n",
            "Fit time          26.72   30.22   26.51   27.54   27.75   27.75   1.32    \n",
            "Test time         4.07    4.37    4.11    4.35    5.52    4.48    0.53    \n",
            "Evaluating RMSE of algorithm NMF on 5 split(s).\n",
            "\n",
            "                  Fold 1  Fold 2  Fold 3  Fold 4  Fold 5  Mean    Std     \n",
            "RMSE (testset)    0.9686  0.9649  0.9567  0.9616  0.9642  0.9632  0.0039  \n",
            "Fit time          1.99    1.99    1.99    1.95    2.59    2.10    0.25    \n",
            "Test time         0.10    0.19    0.10    0.19    0.17    0.15    0.04    \n",
            "Computing the msd similarity matrix...\n",
            "Done computing similarity matrix.\n",
            "Computing the msd similarity matrix...\n",
            "Done computing similarity matrix.\n",
            "Computing the msd similarity matrix...\n",
            "Done computing similarity matrix.\n",
            "Computing the msd similarity matrix...\n",
            "Done computing similarity matrix.\n",
            "Computing the msd similarity matrix...\n",
            "Done computing similarity matrix.\n",
            "Evaluating RMSE of algorithm KNNWithZScore on 5 split(s).\n",
            "\n",
            "                  Fold 1  Fold 2  Fold 3  Fold 4  Fold 5  Mean    Std     \n",
            "RMSE (testset)    0.9407  0.9564  0.9587  0.9484  0.9508  0.9510  0.0064  \n",
            "Fit time          0.49    0.45    0.45    0.47    0.47    0.47    0.01    \n",
            "Test time         3.37    3.28    4.55    3.63    3.41    3.65    0.46    \n",
            "Estimating biases using als...\n",
            "Estimating biases using als...\n",
            "Estimating biases using als...\n",
            "Estimating biases using als...\n",
            "Estimating biases using als...\n",
            "Evaluating RMSE of algorithm BaselineOnly on 5 split(s).\n",
            "\n",
            "                  Fold 1  Fold 2  Fold 3  Fold 4  Fold 5  Mean    Std     \n",
            "RMSE (testset)    0.9354  0.9476  0.9436  0.9484  0.9427  0.9435  0.0046  \n",
            "Fit time          0.26    0.28    0.30    0.32    0.29    0.29    0.02    \n",
            "Test time         0.08    0.21    0.14    0.13    0.30    0.17    0.08    \n"
          ]
        }
      ]
    },
    {
      "cell_type": "code",
      "source": [
        "svd_rmse = cv_svd['test_rmse'].mean()\n",
        "svdpp_rmse = cv_svdpp['test_rmse'].mean()\n",
        "nmf_rmse = cv_nmf['test_rmse'].mean()\n",
        "knn_with_zscore_rmse = cv_knn_with_zscore['test_rmse'].mean()\n",
        "baseline_only_rmse = cv_baseline_only['test_rmse'].mean()\n",
        "\n",
        "print(\"SVD RMSE:\", svd_rmse)\n",
        "print(\"SVD++ RMSE:\", svdpp_rmse)\n",
        "print(\"NMF RMSE:\", nmf_rmse)\n",
        "print(\"KNNWithZScore RMSE:\", knn_with_zscore_rmse)\n",
        "print(\"BaselineOnly RMSE:\", baseline_only_rmse)\n",
        "\n"
      ],
      "metadata": {
        "colab": {
          "base_uri": "https://localhost:8080/"
        },
        "id": "ErMbqpgager5",
        "outputId": "c0280d7a-ecd1-4b64-e347-02af98a2a9cf"
      },
      "execution_count": 8,
      "outputs": [
        {
          "output_type": "stream",
          "name": "stdout",
          "text": [
            "SVD RMSE: 0.9362746128105301\n",
            "SVD++ RMSE: 0.9201040848754577\n",
            "NMF RMSE: 0.9632046332429498\n",
            "KNNWithZScore RMSE: 0.9509914306106311\n",
            "BaselineOnly RMSE: 0.9435415456582981\n"
          ]
        }
      ]
    },
    {
      "cell_type": "code",
      "source": [
        "rmse_values = [svd_rmse, svdpp_rmse, nmf_rmse, knn_with_zscore_rmse, baseline_only_rmse]\n",
        "algos = ['SVD', 'SVD++', 'NMF', 'KNNWithZScore', 'BaselineOnly']\n",
        "\n",
        "plt.bar(algos, rmse_values, color=['blue', 'green', 'red', 'purple', 'orange', 'cyan', 'magenta'])\n",
        "plt.xlabel('Алгоиртм')\n",
        "plt.ylabel(\"RMSE\")\n",
        "plt.title('RMSE порівняння')\n",
        "plt.ylim(0.9, 1.0)\n",
        "plt.gca().set_axisbelow(True)\n",
        "plt.grid(linewidth=0.5)\n",
        "plt.show()"
      ],
      "metadata": {
        "colab": {
          "base_uri": "https://localhost:8080/",
          "height": 472
        },
        "id": "JZgKLgzxgxuB",
        "outputId": "38b031ba-9369-48fc-a77e-f5601e156a10"
      },
      "execution_count": 12,
      "outputs": [
        {
          "output_type": "display_data",
          "data": {
            "text/plain": [
              "<Figure size 640x480 with 1 Axes>"
            ],
            "image/png": "[encoded data removed]"
          },
          "metadata": {}
        }
      ]
    }
  ]
}