{
  "nbformat": 4,
  "nbformat_minor": 0,
  "metadata": {
    "colab": {
      "provenance": []
    },
    "kernelspec": {
      "name": "python3",
      "display_name": "Python 3"
    },
    "language_info": {
      "name": "python"
    }
  },
  "cells": [
    {
      "cell_type": "code",
      "execution_count": 3,
      "metadata": {
        "colab": {
          "base_uri": "https://localhost:8080/"
        },
        "id": "KCQxxEa7H9UC",
        "outputId": "089ea26b-8921-4f56-b8ed-c1a9274f4354"
      },
      "outputs": [
        {
          "output_type": "stream",
          "name": "stdout",
          "text": [
            "      price  area  bedrooms  bathrooms  stories mainroad guestroom basement  \\\n",
            "0  13300000  7420         4          2        3      yes        no       no   \n",
            "1  12250000  8960         4          4        4      yes        no       no   \n",
            "2  12250000  9960         3          2        2      yes        no      yes   \n",
            "3  12215000  7500         4          2        2      yes        no      yes   \n",
            "4  11410000  7420         4          1        2      yes       yes      yes   \n",
            "\n",
            "  hotwaterheating airconditioning  parking prefarea furnishingstatus  \n",
            "0              no             yes        2      yes        furnished  \n",
            "1              no             yes        3       no        furnished  \n",
            "2              no              no        2      yes   semi-furnished  \n",
            "3              no             yes        3      yes        furnished  \n",
            "4              no             yes        2       no        furnished  \n"
          ]
        }
      ],
      "source": [
        "# Крок 1: Завантажте файл Housing.csv. Виведіть перші 5 рядків.\n",
        "import pandas as pd\n",
        "import numpy as np\n",
        "\n",
        "file_path = '/content/Housing .csv'\n",
        "df = pd.read_csv(file_path)\n",
        "print(df.head())"
      ]
    },
    {
      "cell_type": "code",
      "source": [
        "# Крок 2: Зробіть новий датасет, який містить тільки ці стовпчики.\n",
        "columns = ['price', 'area', 'bedrooms', 'bathrooms']\n",
        "new_df = df[columns]"
      ],
      "metadata": {
        "id": "YjpEbpt4IWQk"
      },
      "execution_count": 4,
      "outputs": []
    },
    {
      "cell_type": "code",
      "source": [
        "#Крок 3:\n",
        "# Заміна '-' на NaN\n",
        "new_df.replace('-', np.nan, inplace=True)\n",
        "\n",
        "# Зміна типу даних на float\n",
        "new_df = new_df.astype(float)\n",
        "\n",
        "# Заміна NaN середнім значенням за стовпчиком\n",
        "new_df.fillna(new_df.mean(), inplace=True)\n",
        "\n",
        "# Виведення перших 5 рядків нового датасету\n",
        "print(new_df.head())"
      ],
      "metadata": {
        "colab": {
          "base_uri": "https://localhost:8080/"
        },
        "id": "pVe4k3naIbi3",
        "outputId": "d97d4a81-52cc-4eca-dad7-4591e9ad02e1"
      },
      "execution_count": 5,
      "outputs": [
        {
          "output_type": "stream",
          "name": "stdout",
          "text": [
            "        price    area  bedrooms  bathrooms\n",
            "0  13300000.0  7420.0       4.0        2.0\n",
            "1  12250000.0  8960.0       4.0        4.0\n",
            "2  12250000.0  9960.0       3.0        2.0\n",
            "3  12215000.0  7500.0       4.0        2.0\n",
            "4  11410000.0  7420.0       4.0        1.0\n"
          ]
        },
        {
          "output_type": "stream",
          "name": "stderr",
          "text": [
            "<ipython-input-5-dc5976054191>:3: SettingWithCopyWarning: \n",
            "A value is trying to be set on a copy of a slice from a DataFrame\n",
            "\n",
            "See the caveats in the documentation: https://pandas.pydata.org/pandas-docs/stable/user_guide/indexing.html#returning-a-view-versus-a-copy\n",
            "  new_df.replace('-', np.nan, inplace=True)\n"
          ]
        }
      ]
    },
    {
      "cell_type": "code",
      "source": [
        "# Крок 4: Нормалізація даних\n",
        "from sklearn.preprocessing import StandardScaler\n",
        "\n",
        "scaler = StandardScaler()\n",
        "new_df_normalized = scaler.fit_transform(new_df)"
      ],
      "metadata": {
        "id": "4Yj8EBQcJK_S"
      },
      "execution_count": 6,
      "outputs": []
    },
    {
      "cell_type": "code",
      "source": [
        "# Крок 5: Розділіть дані на навчальний та тестовий набори\n",
        "from sklearn.model_selection import train_test_split\n",
        "\n",
        "X = new_df_normalized[:, 1:]\n",
        "y = new_df_normalized[:, 0]\n",
        "\n",
        "X_train, X_test, y_train, y_test = train_test_split(X, y, test_size=0.2, random_state=42)"
      ],
      "metadata": {
        "id": "_Idj0l44JWVi"
      },
      "execution_count": 7,
      "outputs": []
    },
    {
      "cell_type": "code",
      "source": [
        "# Підготуйте дані: виберіть атрибути (площа, кількість ванних кімнат, кількість спалень) та цільову змінну (ціну на будинок).\n",
        "\n",
        "X = new_df[['area', 'bedrooms', 'bathrooms']]\n",
        "y = new_df['price']"
      ],
      "metadata": {
        "id": "XMGoRN7XJfGE"
      },
      "execution_count": 33,
      "outputs": []
    },
    {
      "cell_type": "code",
      "source": [
        "# Крок 7: Побудуйте модель лінійної регресії та навчіть її на навчальних даних.\n",
        "from sklearn.linear_model import LinearRegression\n",
        "\n",
        "model = LinearRegression()\n",
        "model.fit(X_train, y_train)"
      ],
      "metadata": {
        "colab": {
          "base_uri": "https://localhost:8080/",
          "height": 74
        },
        "id": "Uzh99tYJJygv",
        "outputId": "8a15827a-f45a-49ad-f6e0-62a599f7ce0e"
      },
      "execution_count": 34,
      "outputs": [
        {
          "output_type": "execute_result",
          "data": {
            "text/plain": [
              "LinearRegression()"
            ],
            "text/html": [
              "<style>#sk-container-id-3 {color: black;background-color: white;}#sk-container-id-3 pre{padding: 0;}#sk-container-id-3 div.sk-toggleable {background-color: white;}#sk-container-id-3 label.sk-toggleable__label {cursor: pointer;display: block;width: 100%;margin-bottom: 0;padding: 0.3em;box-sizing: border-box;text-align: center;}#sk-container-id-3 label.sk-toggleable__label-arrow:before {content: \"▸\";float: left;margin-right: 0.25em;color: #696969;}#sk-container-id-3 label.sk-toggleable__label-arrow:hover:before {color: black;}#sk-container-id-3 div.sk-estimator:hover label.sk-toggleable__label-arrow:before {color: black;}#sk-container-id-3 div.sk-toggleable__content {max-height: 0;max-width: 0;overflow: hidden;text-align: left;background-color: #f0f8ff;}#sk-container-id-3 div.sk-toggleable__content pre {margin: 0.2em;color: black;border-radius: 0.25em;background-color: #f0f8ff;}#sk-container-id-3 input.sk-toggleable__control:checked~div.sk-toggleable__content {max-height: 200px;max-width: 100%;overflow: auto;}#sk-container-id-3 input.sk-toggleable__control:checked~label.sk-toggleable__label-arrow:before {content: \"▾\";}#sk-container-id-3 div.sk-estimator input.sk-toggleable__control:checked~label.sk-toggleable__label {background-color: #d4ebff;}#sk-container-id-3 div.sk-label input.sk-toggleable__control:checked~label.sk-toggleable__label {background-color: #d4ebff;}#sk-container-id-3 input.sk-hidden--visually {border: 0;clip: rect(1px 1px 1px 1px);clip: rect(1px, 1px, 1px, 1px);height: 1px;margin: -1px;overflow: hidden;padding: 0;position: absolute;width: 1px;}#sk-container-id-3 div.sk-estimator {font-family: monospace;background-color: #f0f8ff;border: 1px dotted black;border-radius: 0.25em;box-sizing: border-box;margin-bottom: 0.5em;}#sk-container-id-3 div.sk-estimator:hover {background-color: #d4ebff;}#sk-container-id-3 div.sk-parallel-item::after {content: \"\";width: 100%;border-bottom: 1px solid gray;flex-grow: 1;}#sk-container-id-3 div.sk-label:hover label.sk-toggleable__label {background-color: #d4ebff;}#sk-container-id-3 div.sk-serial::before {content: \"\";position: absolute;border-left: 1px solid gray;box-sizing: border-box;top: 0;bottom: 0;left: 50%;z-index: 0;}#sk-container-id-3 div.sk-serial {display: flex;flex-direction: column;align-items: center;background-color: white;padding-right: 0.2em;padding-left: 0.2em;position: relative;}#sk-container-id-3 div.sk-item {position: relative;z-index: 1;}#sk-container-id-3 div.sk-parallel {display: flex;align-items: stretch;justify-content: center;background-color: white;position: relative;}#sk-container-id-3 div.sk-item::before, #sk-container-id-3 div.sk-parallel-item::before {content: \"\";position: absolute;border-left: 1px solid gray;box-sizing: border-box;top: 0;bottom: 0;left: 50%;z-index: -1;}#sk-container-id-3 div.sk-parallel-item {display: flex;flex-direction: column;z-index: 1;position: relative;background-color: white;}#sk-container-id-3 div.sk-parallel-item:first-child::after {align-self: flex-end;width: 50%;}#sk-container-id-3 div.sk-parallel-item:last-child::after {align-self: flex-start;width: 50%;}#sk-container-id-3 div.sk-parallel-item:only-child::after {width: 0;}#sk-container-id-3 div.sk-dashed-wrapped {border: 1px dashed gray;margin: 0 0.4em 0.5em 0.4em;box-sizing: border-box;padding-bottom: 0.4em;background-color: white;}#sk-container-id-3 div.sk-label label {font-family: monospace;font-weight: bold;display: inline-block;line-height: 1.2em;}#sk-container-id-3 div.sk-label-container {text-align: center;}#sk-container-id-3 div.sk-container {/* jupyter's `normalize.less` sets `[hidden] { display: none; }` but bootstrap.min.css set `[hidden] { display: none !important; }` so we also need the `!important` here to be able to override the default hidden behavior on the sphinx rendered scikit-learn.org. See: https://github.com/scikit-learn/scikit-learn/issues/21755 */display: inline-block !important;position: relative;}#sk-container-id-3 div.sk-text-repr-fallback {display: none;}</style><div id=\"sk-container-id-3\" class=\"sk-top-container\"><div class=\"sk-text-repr-fallback\"><pre>LinearRegression()</pre><b>In a Jupyter environment, please rerun this cell to show the HTML representation or trust the notebook. <br />On GitHub, the HTML representation is unable to render, please try loading this page with nbviewer.org.</b></div><div class=\"sk-container\" hidden><div class=\"sk-item\"><div class=\"sk-estimator sk-toggleable\"><input class=\"sk-toggleable__control sk-hidden--visually\" id=\"sk-estimator-id-3\" type=\"checkbox\" checked><label for=\"sk-estimator-id-3\" class=\"sk-toggleable__label sk-toggleable__label-arrow\">LinearRegression</label><div class=\"sk-toggleable__content\"><pre>LinearRegression()</pre></div></div></div></div></div>"
            ]
          },
          "metadata": {},
          "execution_count": 34
        }
      ]
    },
    {
      "cell_type": "code",
      "source": [
        "from sklearn.metrics import mean_squared_error, r2_score\n",
        "from sklearn.model_selection import cross_val_score\n",
        "#Крок 8\n",
        "# Якість моделі на тестових даних\n",
        "y_pred = model.predict(X_test)\n",
        "rmse = mean_squared_error(y_test, y_pred, squared=False)\n",
        "r2 = r2_score(y_test, y_pred)\n",
        "\n",
        "# Крос-валідація\n",
        "cv_score = cross_val_score(model, new_df_normalized[:, 1:], new_df_normalized[:, 0], cv=5)\n",
        "\n",
        "print(f'RMSE: {rmse}')\n",
        "print(f'R^2: {r2}')\n",
        "print(f'Крос-валідації: {cv_score}')"
      ],
      "metadata": {
        "colab": {
          "base_uri": "https://localhost:8080/"
        },
        "id": "gGbQk03xJtXK",
        "outputId": "d965b5a5-d8d6-4165-ed47-bf5a199687c6"
      },
      "execution_count": 35,
      "outputs": [
        {
          "output_type": "stream",
          "name": "stdout",
          "text": [
            "RMSE: 0.8874106823867896\n",
            "R^2: 0.45592991188724463\n",
            "Крос-валідації: [ -3.23415827  -7.66529992 -16.80680846 -27.88609775 -14.3534265 ]\n"
          ]
        }
      ]
    },
    {
      "cell_type": "code",
      "source": [
        "from sklearn.model_selection import cross_val_score\n",
        "\n",
        "cross_val_r2 = cross_val_score(model, X, y, cv=5, scoring='r2').mean()\n",
        "print(\"Коефіцієнт детермінації (R^2) після крос-валідації:\", cross_val_r2)"
      ],
      "metadata": {
        "colab": {
          "base_uri": "https://localhost:8080/"
        },
        "id": "kHzuDh6HKHlX",
        "outputId": "3b3119d2-5006-4666-9478-af11a25d6302"
      },
      "execution_count": 36,
      "outputs": [
        {
          "output_type": "stream",
          "name": "stdout",
          "text": [
            "Коефіцієнт детермінації (R^2) після крос-валідації: -13.98915818011171\n"
          ]
        }
      ]
    },
    {
      "cell_type": "code",
      "source": [
        "#Крок 9 Виконайте аналіз результатів та виведіть прогнозовані ціни на будинки для тестового набору даних.\n",
        "predicted_prices = scaler.inverse_transform(np.column_stack((y_pred, X_test)))\n",
        "predicted_df = pd.DataFrame(data=predicted_prices, columns=['Predicted Price', 'Area', 'Bedrooms', 'Bathrooms'])\n",
        "actual_prices = scaler.inverse_transform(np.column_stack((y_test.reshape(-1, 1), X_test)))\n",
        "actual_df = pd.DataFrame(data=actual_prices, columns=['Actual Price', 'Area', 'Bedrooms', 'Bathrooms'])\n",
        "\n",
        "comparison_df = pd.concat([actual_df, predicted_df], axis=1)\n",
        "print(\"Фактичні та прогнозовані ціни на будинки для тестового набору даних:\", comparison_df)"
      ],
      "metadata": {
        "colab": {
          "base_uri": "https://localhost:8080/"
        },
        "id": "zt1HLc4gKQFi",
        "outputId": "ec3cb2b7-44ab-4dc1-ed54-6bec388dfde1"
      },
      "execution_count": 50,
      "outputs": [
        {
          "output_type": "stream",
          "name": "stdout",
          "text": [
            "Фактичні та прогнозовані ціни на будинки для тестового набору даних:\n",
            "      Actual Price    Area  Bedrooms  Bathrooms  Predicted Price    Area  \\\n",
            "0       4060000.0  5900.0       4.0        2.0     6.383168e+06  5900.0   \n",
            "1       6650000.0  6500.0       3.0        2.0     6.230250e+06  6500.0   \n",
            "2       3710000.0  4040.0       2.0        1.0     3.597885e+06  4040.0   \n",
            "3       6440000.0  5000.0       3.0        1.0     4.289731e+06  5000.0   \n",
            "4       2800000.0  3960.0       3.0        1.0     3.930446e+06  3960.0   \n",
            "..            ...     ...       ...        ...              ...     ...   \n",
            "104     9100000.0  6000.0       4.0        1.0     4.995395e+06  6000.0   \n",
            "105     3773000.0  6930.0       4.0        1.0     5.316679e+06  6930.0   \n",
            "106     7910000.0  6000.0       4.0        2.0     6.417715e+06  6000.0   \n",
            "107     7350000.0  6000.0       3.0        2.0     6.057517e+06  6000.0   \n",
            "108     5530000.0  6100.0       3.0        2.0     6.092064e+06  6100.0   \n",
            "\n",
            "     Bedrooms  Bathrooms  \n",
            "0         4.0        2.0  \n",
            "1         3.0        2.0  \n",
            "2         2.0        1.0  \n",
            "3         3.0        1.0  \n",
            "4         3.0        1.0  \n",
            "..        ...        ...  \n",
            "104       4.0        1.0  \n",
            "105       4.0        1.0  \n",
            "106       4.0        2.0  \n",
            "107       3.0        2.0  \n",
            "108       3.0        2.0  \n",
            "\n",
            "[109 rows x 8 columns]\n"
          ]
        }
      ]
    },
    {
      "cell_type": "code",
      "source": [
        "#Ч.2 Визначте аналітично коефіцієнти лінійної регресії (ваги моделі) для цієї задачі, використовуючи формулу для спрощеного аналітичного рішення лінійної регресії.\n",
        "X_with_intercept = np.c_[np.ones((X.shape[0], 1)), X]\n",
        "\n",
        "theta_analytical = np.linalg.inv(X_with_intercept.T @ X_with_intercept) @ X_with_intercept.T @ y\n",
        "\n",
        "print(\"Аналітичні ваги моделі:\", theta_analytical)"
      ],
      "metadata": {
        "colab": {
          "base_uri": "https://localhost:8080/"
        },
        "id": "KLCk3_-BZESb",
        "outputId": "b98f7fb9-8b87-4a90-8acb-ca96334caf8e"
      },
      "execution_count": 52,
      "outputs": [
        {
          "output_type": "stream",
          "name": "stdout",
          "text": [
            "Аналітичні ваги моделі: [-1.73171608e+05  3.78762754e+02  4.06820034e+05  1.38604950e+06]\n"
          ]
        }
      ]
    },
    {
      "cell_type": "code",
      "source": [
        "#ч3 Візуалізуйте дані та результати регресії: побудуйте графіки для ознайомлення з розподілом даних і лінійною регресійною моделлю.\n",
        "import matplotlib.pyplot as plt\n",
        "plt.figure(figsize=(12, 6))\n",
        "\n",
        "plt.subplot(1, 2, 1)\n",
        "plt.scatter(X_train[:, 0], y_train, color='blue', label='Розподіл даних')\n",
        "plt.scatter(X_test[:, 0], y_test, color='red', label='Лін регрес')\n",
        "plt.title('Візуалізація лінійної регресії')\n",
        "plt.xlabel('Площа')\n",
        "plt.ylabel('Ціна')\n",
        "plt.legend()\n",
        "\n",
        "\n",
        "\n",
        "plt.tight_layout()\n",
        "plt.show()\n"
      ],
      "metadata": {
        "colab": {
          "base_uri": "https://localhost:8080/",
          "height": 607
        },
        "id": "8YemjMnZfSE4",
        "outputId": "f4d49458-71a1-465b-a45b-173394e53f33"
      },
      "execution_count": 74,
      "outputs": [
        {
          "output_type": "display_data",
          "data": {
            "text/plain": [
              "<Figure size 1200x600 with 1 Axes>"
            ],
            "image/png": "[encoded data removed]"
          },
          "metadata": {}
        }
      ]
    },
    {
      "cell_type": "code",
      "source": [
        "# Отримання коефіцієнтів лінійної регресії\n",
        "intercept_sklearn = model.intercept_\n",
        "coefficients_sklearn = model.coef_\n",
        "\n",
        "# Виведення коефіцієнтів з обох методів\n",
        "print(\"Аналітичні коефіцієнти моделі:\", theta_analytical)\n",
        "print(\"Коефіцієнти лінійної регресії:\")\n",
        "print(\"Перехоплення :\", intercept_sklearn)\n",
        "print(\"Коефіцієнти :\", coefficients_sklearn)\n"
      ],
      "metadata": {
        "colab": {
          "base_uri": "https://localhost:8080/"
        },
        "id": "yIMHnY-erGQq",
        "outputId": "aed0696c-b088-4f0a-c578-71b6d68d0ea3"
      },
      "execution_count": 77,
      "outputs": [
        {
          "output_type": "stream",
          "name": "stdout",
          "text": [
            "Аналітичні коефіцієнти моделі: [-1.73171608e+05  3.78762754e+02  4.06820034e+05  1.38604950e+06]\n",
            "Коефіцієнти лінійної регресії:\n",
            "Перехоплення : -0.016281754425403302\n",
            "Коефіцієнти : [0.40082084 0.14213176 0.38208794]\n"
          ]
        }
      ]
    },
    {
      "cell_type": "markdown",
      "source": [
        "11. Зробіть висновки щодо ефективності лінійної регресії у прогнозуванні цін на будинок на основі вказаних атрибутів та порівняння з аналітичним рішенням\n",
        "--\n",
        "Значення R^2 = 0.45592991188724463 означає, що велика частина варіації в цільовій змінній пояснюється моделлю. RMSE = 0.8874106823867896, високе значення RMSE може свідчити про те, що модель не добре враховує реальний розподіл даних. Модель добре апроксимує точки на графіку, це також є позитивним показником."
      ],
      "metadata": {
        "id": "o6VM7Oyir2GP"
      }
    },
    {
      "cell_type": "markdown",
      "source": [
        "Висновок: дана робота включає створення та оцінку моделі лінійної регресії для прогнозування цін на будинки. Основні крок роботи: підготовка, аналіз, нормалізація даних, побудова та навчання моделі, оцінка її якості, порівняння результатів та їх візуалізація."
      ],
      "metadata": {
        "id": "tEdEK6IntBPD"
      }
    }
  ]
}